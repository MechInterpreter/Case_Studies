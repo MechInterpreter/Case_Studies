{
 "cells": [
  {
   "cell_type": "code",
   "execution_count": 1,
   "id": "978d768c",
   "metadata": {},
   "outputs": [],
   "source": [
    "# Import necessary modules and Pipeline\n",
    "import pandas as pd\n",
    "import matplotlib.pyplot as plt\n",
    "from pipeline import Pipeline\n",
    "from sklearn.metrics import ndcg_score\n",
    "import numpy as np"
   ]
  },
  {
   "cell_type": "code",
   "execution_count": 2,
   "id": "43f5c832",
   "metadata": {},
   "outputs": [],
   "source": [
    "# Load Dataset Paths\n",
    "ratings_file = '/teamspace/studios/this_studio/u.data'\n",
    "metadata_file = '/teamspace/studios/this_studio/u.item'\n",
    "user_info_file = '/teamspace/studios/this_studio/u.user'\n",
    "\n",
    "# Load Additional Metadata\n",
    "# Load movie metadata\n",
    "metadata = pd.read_csv(metadata_file, sep='|', encoding='latin-1', names=[\n",
    "    'item', 'title', 'release_date', 'video_release_date', 'IMDb_URL', 'unknown', 'Action', 'Adventure', 'Animation',\n",
    "    'Children', 'Comedy', 'Crime', 'Documentary', 'Drama', 'Fantasy', 'Film-Noir', 'Horror', 'Musical', 'Mystery',\n",
    "    'Romance', 'Sci-Fi', 'Thriller', 'War', 'Western'\n",
    "])\n",
    "\n",
    "# Load user demographic information\n",
    "user_info = pd.read_csv(user_info_file, sep='|', names=['user', 'age', 'gender', 'occupation', 'zip'])\n",
    "\n",
    "# Load ratings data\n",
    "ratings = pd.read_csv(ratings_file, sep='\\t', names=['user', 'item', 'rating', 'timestamp'])"
   ]
  },
  {
   "cell_type": "code",
   "execution_count": 3,
   "id": "130f18c9",
   "metadata": {},
   "outputs": [
    {
     "name": "stdout",
     "output_type": "stream",
     "text": [
      "Dataset loaded with shape: (100000, 4)\n",
      "   user_id  item_id  rating  timestamp\n",
      "0      196      242       3  881250949\n",
      "1      186      302       3  891717742\n",
      "2       22      377       1  878887116\n",
      "3      244       51       2  880606923\n",
      "4      166      346       1  886397596\n",
      "Training set shape: (79734, 4)\n",
      "Testing set shape: (20266, 4)\n",
      "RMSE: 0.9362\n",
      "Collaborative Filtering Model RMSE: 0.9362309162270313\n",
      "Content-Based Filtering Model RMSE: 1.770201401084926\n"
     ]
    }
   ],
   "source": [
    "# Load Dataset Using Pipeline\n",
    "pipeline = Pipeline()\n",
    "pipeline.load_dataset(ratings_file)\n",
    "\n",
    "# Partition the data into training and testing sets\n",
    "train_df, test_df = pipeline.partition_data(partition_type='user_stratified')\n",
    "\n",
    "# Initialize the models using Pipeline\n",
    "pipeline.initialize_models(ratings_file=ratings_file, metadata_file=metadata_file)\n",
    "\n",
    "# Fit all models using Pipeline's fit_models function\n",
    "pipeline.fit_models()\n",
    "\n",
    "# Evaluate models after training to establish baseline performance\n",
    "pipeline.evaluate_models()"
   ]
  },
  {
   "cell_type": "code",
   "execution_count": 4,
   "id": "651e6d0f",
   "metadata": {},
   "outputs": [
    {
     "name": "stdout",
     "output_type": "stream",
     "text": [
      "\n",
      "Simulating Cold Start Scenario: New User with No Ratings...\n",
      "\n",
      "Recommendations for New User with No Ratings (Rule-Based and Hybrid Recommendations):\n",
      "   item     score\n",
      "0    56  4.813048\n",
      "1    98  4.808753\n",
      "2   408  4.729026\n",
      "3   175  4.627795\n",
      "4   187  4.595395\n",
      "5   134  4.592303\n",
      "6   185  4.592078\n",
      "7   173  4.536520\n",
      "8   646  4.536122\n",
      "9    23  4.526568\n"
     ]
    }
   ],
   "source": [
    "# Cold Start Scenarios\n",
    "\n",
    "# Scenario 1: New User with No Ratings\n",
    "print(\"\\nSimulating Cold Start Scenario: New User with No Ratings...\")\n",
    "# Select a user from the test set who is not in the training set\n",
    "new_user_id = test_df['user_id'].iloc[0]  # Pick the first user from the test set\n",
    "\n",
    "# Get Recommendations for New User with No Ratings using Rule-Based and Hybrid Recommendations\n",
    "print(\"\\nRecommendations for New User with No Ratings (Rule-Based and Hybrid Recommendations):\")\n",
    "pipeline.get_recommendations(user_id=new_user_id, top_n=10)"
   ]
  },
  {
   "cell_type": "code",
   "execution_count": 5,
   "id": "d0d4aecf",
   "metadata": {},
   "outputs": [
    {
     "name": "stdout",
     "output_type": "stream",
     "text": [
      "\n",
      "Simulating Cold Start Scenario: New User with Few Ratings...\n",
      "\n",
      "Evaluating New User with Few Ratings...\n",
      "Predicted Rating for New User (Few Ratings) on Item 10: 4.075935971158545\n"
     ]
    }
   ],
   "source": [
    "# Scenario 2: New User with Very Few Ratings\n",
    "print(\"\\nSimulating Cold Start Scenario: New User with Few Ratings...\")\n",
    "new_user_few_ratings = {1: 4, 5: 3, 7: 5}  # Ratings provided by the new user\n",
    "\n",
    "# Adding new user's ratings to the dataset and updating train set\n",
    "new_user_ratings_df = pd.DataFrame([{'user_id': new_user_id, 'item_id': item_id, 'rating': rating, 'timestamp': 0}\n",
    "                                    for item_id, rating in new_user_few_ratings.items()])\n",
    "train_df = pd.concat([train_df, new_user_ratings_df], ignore_index=True)\n",
    "\n",
    "# Re-fit models after adding new user's ratings\n",
    "pipeline.ratings_df = train_df\n",
    "pipeline.fit_models()\n",
    "\n",
    "# Predict a rating for the new user on an item using Collaborative Filtering\n",
    "print(\"\\nEvaluating New User with Few Ratings...\")\n",
    "prediction = pipeline.collaborative_model.model.predict(new_user_id, 10)  # Predict rating for item 10\n",
    "print(f\"Predicted Rating for New User (Few Ratings) on Item 10: {prediction.est}\")"
   ]
  },
  {
   "cell_type": "code",
   "execution_count": 6,
   "id": "fee60b8f",
   "metadata": {},
   "outputs": [
    {
     "name": "stdout",
     "output_type": "stream",
     "text": [
      "Top 5 Movies Recommended using Rule-Based Recommendations:\n",
      "     item                  title\n",
      "133   134    Citizen Kane (1941)\n",
      "191   192     Raging Bull (1980)\n",
      "284   285  Secrets & Lies (1996)\n",
      "478   479         Vertigo (1958)\n",
      "602   603     Rear Window (1954)\n"
     ]
    }
   ],
   "source": [
    "# Strategies to Mitigate Cold Start\n",
    "\n",
    "# Strategy 1: Rule-Based Recommendations for New Users\n",
    "print(\"Top 5 Movies Recommended using Rule-Based Recommendations:\")\n",
    "top_movies = pipeline.recommender.rank_items(new_user_id, top_n=5)\n",
    "\n",
    "# Handle whether `top_movies` is a DataFrame or a list\n",
    "if isinstance(top_movies, pd.DataFrame):\n",
    "    if 'item_id' in top_movies.columns:\n",
    "        rule_based_items = top_movies['item_id'].tolist()\n",
    "    elif 'item' in top_movies.columns:\n",
    "        rule_based_items = top_movies['item'].tolist()\n",
    "    else:\n",
    "        raise KeyError(\"Expected column 'item' or 'item_id' not found in `top_movies` DataFrame.\")\n",
    "else:\n",
    "    rule_based_items = top_movies\n",
    "\n",
    "# Merge with metadata to get movie titles\n",
    "rule_based_titles = metadata[metadata['item'].isin(rule_based_items)][['item', 'title']]\n",
    "print(rule_based_titles)"
   ]
  },
  {
   "cell_type": "markdown",
   "id": "23aaff4d",
   "metadata": {},
   "source": [
    "**Rule-Based Recommendations**:\n",
    "- This approach was chosen for its simplicity and effectiveness. It recommends the most popular items to new users, ensuring that they receive high-quality content without needing historical interaction data."
   ]
  },
  {
   "cell_type": "code",
   "execution_count": 7,
   "id": "737cca8b",
   "metadata": {},
   "outputs": [
    {
     "name": "stdout",
     "output_type": "stream",
     "text": [
      "\n",
      "Top 5 Movies Recommended using Content-Based Filtering:\n",
      "    item                               title\n",
      "33    34         Doom Generation, The (1995)\n",
      "44    45          Eat Drink Man Woman (1994)\n",
      "46    47                      Ed Wood (1994)\n",
      "64    65  What's Eating Gilbert Grape (1993)\n",
      "92    93     Welcome to the Dollhouse (1995)\n"
     ]
    },
    {
     "name": "stderr",
     "output_type": "stream",
     "text": [
      "/teamspace/studios/this_studio/content_based.py:216: RuntimeWarning: invalid value encountered in scalar divide\n",
      "  score = np.dot(user_profile, item_vector) / (\n"
     ]
    }
   ],
   "source": [
    "# Strategy 2: Content-Based Filtering for New Users\n",
    "print(\"\\nTop 5 Movies Recommended using Content-Based Filtering:\")\n",
    "content_based_recommendations = pipeline.content_based_model.get_top_items(user_id=new_user_id, top_n=5)\n",
    "\n",
    "if isinstance(content_based_recommendations, pd.DataFrame):\n",
    "    content_based_items = content_based_recommendations['item'].tolist()\n",
    "elif isinstance(content_based_recommendations, list):\n",
    "    content_based_items = [item for item, _ in content_based_recommendations]\n",
    "else:\n",
    "    content_based_items = []\n",
    "\n",
    "# Merge with metadata to get movie titles\n",
    "content_based_titles = metadata[metadata['item'].isin(content_based_items)][['item', 'title']]\n",
    "print(content_based_titles)"
   ]
  },
  {
   "cell_type": "markdown",
   "id": "df56f09d",
   "metadata": {},
   "source": [
    "**Content-Based Filtering**:\n",
    "- Content-based filtering attempts to address personalization by recommending items similar to those the user has shown interest in. Although challenging for new users, it serves as an important foundation for tailored recommendations once sufficient user data is available."
   ]
  },
  {
   "cell_type": "code",
   "execution_count": 8,
   "id": "1c50c4b0",
   "metadata": {},
   "outputs": [
    {
     "name": "stdout",
     "output_type": "stream",
     "text": [
      "\n",
      "Hybrid Recommendations for New User:\n",
      "     item                               title\n",
      "33     34         Doom Generation, The (1995)\n",
      "44     45          Eat Drink Man Woman (1994)\n",
      "46     47                      Ed Wood (1994)\n",
      "64     65  What's Eating Gilbert Grape (1993)\n",
      "92     93     Welcome to the Dollhouse (1995)\n",
      "133   134                 Citizen Kane (1941)\n",
      "191   192                  Raging Bull (1980)\n",
      "284   285               Secrets & Lies (1996)\n",
      "478   479                      Vertigo (1958)\n",
      "602   603                  Rear Window (1954)\n"
     ]
    }
   ],
   "source": [
    "# Strategy 3: Hybrid Model Recommendations for New Users\n",
    "print(\"\\nHybrid Recommendations for New User:\")\n",
    "hybrid_recommendations = set(rule_based_items).union(content_based_items)\n",
    "\n",
    "# Display the hybrid recommendations as a sorted list\n",
    "hybrid_recommendations_list = sorted(hybrid_recommendations)\n",
    "hybrid_titles = metadata[metadata['item'].isin(hybrid_recommendations_list)][['item', 'title']]\n",
    "print(hybrid_titles)"
   ]
  },
  {
   "cell_type": "markdown",
   "id": "7893e9ed",
   "metadata": {},
   "source": [
    "**Hybrid Model**:\n",
    "- A hybrid strategy combines both popularity and personalization by leveraging rule-based and content-based elements. This combination aims to create a balanced recommendation, capturing both the benefits of global popularity and the specificity of user preferences."
   ]
  },
  {
   "cell_type": "code",
   "execution_count": 9,
   "id": "ebb1272b",
   "metadata": {},
   "outputs": [
    {
     "name": "stdout",
     "output_type": "stream",
     "text": [
      "\n",
      "Strategy 4: Enhanced Demographic-Based Cold Start...\n",
      "Top Movies for Similar Age and Occupation Group:\n",
      "     item                      title\n",
      "49     50           Star Wars (1977)\n",
      "180   181  Return of the Jedi (1983)\n",
      "257   258             Contact (1997)\n",
      "287   288              Scream (1996)\n",
      "293   294           Liar Liar (1997)\n"
     ]
    }
   ],
   "source": [
    "# Strategy 4: Enhanced Demographic-Based Cold Start\n",
    "print(\"\\nStrategy 4: Enhanced Demographic-Based Cold Start...\")\n",
    "new_user_age = 25  # Simulate a new user's age\n",
    "new_user_occupation = 'student'  # Simulate a new user's occupation\n",
    "\n",
    "# Filter users based on similar age and occupation\n",
    "similar_users = user_info[\n",
    "    (user_info['age'] >= new_user_age - 5) & (user_info['age'] <= new_user_age + 5) &\n",
    "    (user_info['occupation'] == new_user_occupation)\n",
    "]\n",
    "\n",
    "if not similar_users.empty:\n",
    "    popular_items_for_age_occupation_group = ratings[ratings['user'].isin(similar_users['user'])]['item'].value_counts().head(5)\n",
    "    demographic_items = popular_items_for_age_occupation_group.index.tolist()  # Extract the item IDs\n",
    "    demographic_avg_rating = ratings[ratings['item'].isin(demographic_items)]['rating'].mean()\n",
    "else:\n",
    "    demographic_avg_rating = 3.0  # Default average if no similar users found\n",
    "\n",
    "# Merge with metadata to get movie titles\n",
    "demographic_titles = metadata[metadata['item'].isin(demographic_items)][['item', 'title']]\n",
    "print(\"Top Movies for Similar Age and Occupation Group:\")\n",
    "print(demographic_titles)"
   ]
  },
  {
   "cell_type": "markdown",
   "id": "746ef217",
   "metadata": {},
   "source": [
    "**Demographic-Based Recommendations**:\n",
    "- Demographic-based recommendations use demographic characteristics such as age, gender, and occupation to provide an initial level of personalization. It addresses the cold start problem by recommending items popular among users with similar demographic profiles, thereby offering more targeted recommendations compared to pure popularity-based strategies."
   ]
  },
  {
   "cell_type": "code",
   "execution_count": 10,
   "id": "294b2255",
   "metadata": {},
   "outputs": [
    {
     "name": "stdout",
     "output_type": "stream",
     "text": [
      "\n",
      "Performance Analysis and Visualizations...\n",
      "Rule-Based Average Rating: 4.278935185185185\n",
      "Content-Based Average Rating: 0.7750178038122478\n",
      "Hybrid Average Rating: 2.5269764944987165\n",
      "Demographic-Based Average Rating: 3.780249804839969\n"
     ]
    },
    {
     "data": {
      "image/png": "[encoded data removed]",
      "text/plain": [
       "<Figure size 1000x500 with 1 Axes>"
      ]
     },
     "metadata": {},
     "output_type": "display_data"
    }
   ],
   "source": [
    "# Performance Analysis and Visualization\n",
    "print(\"\\nPerformance Analysis and Visualizations...\")\n",
    "\n",
    "# Calculate Average Predicted Ratings for Each Strategy\n",
    "rule_based_avg_rating = ratings[ratings['item'].isin(rule_based_items)]['rating'].mean()\n",
    "\n",
    "# Extract average rating for content-based recommendations\n",
    "if isinstance(content_based_recommendations, pd.DataFrame):\n",
    "    content_based_avg_rating = content_based_recommendations['score'].mean()\n",
    "elif isinstance(content_based_recommendations, list):\n",
    "    content_based_avg_rating = np.mean([rating for _, rating in content_based_recommendations])\n",
    "else:\n",
    "    content_based_avg_rating = 0  # If there are no valid recommendations\n",
    "\n",
    "# Calculate hybrid model average by taking an average of rule-based and content-based\n",
    "hybrid_avg_rating = (rule_based_avg_rating + content_based_avg_rating) / 2\n",
    "\n",
    "# Printing out the averages for verification\n",
    "print(f\"Rule-Based Average Rating: {rule_based_avg_rating}\")\n",
    "print(f\"Content-Based Average Rating: {content_based_avg_rating}\")\n",
    "print(f\"Hybrid Average Rating: {hybrid_avg_rating}\")\n",
    "print(f\"Demographic-Based Average Rating: {demographic_avg_rating}\")\n",
    "\n",
    "strategies = ['Rule-Based', 'Content-Based', 'Hybrid', 'Demographic-Based']\n",
    "ratings_actual = [rule_based_avg_rating, content_based_avg_rating, hybrid_avg_rating, demographic_avg_rating]\n",
    "\n",
    "# Plotting the performance comparison of all four strategies\n",
    "plt.figure(figsize=(10, 5))\n",
    "plt.bar(strategies, ratings_actual, color=['skyblue', 'lightgreen', 'salmon', 'violet'])\n",
    "plt.title('Performance Comparison of Cold Start Strategies')\n",
    "plt.xlabel('Strategy')\n",
    "plt.ylabel('Average Predicted Rating')\n",
    "plt.grid(axis='y')\n",
    "plt.show()"
   ]
  },
  {
   "cell_type": "markdown",
   "id": "77273c17",
   "metadata": {},
   "source": [
    "# Performance Analysis\n",
    "## Rule-Based Recommendations\n",
    "The Rule-Based Recommendations strategy remains a straightforward approach for handling cold start situations. It recommends movies that are globally popular, making it suitable for new users who have not provided any ratings. This approach has shown an average predicted rating of 4.28, demonstrating strong performance compared to other strategies in this study. The recommended movies included highly rated items such as \"Star Wars (1977)\", \"Good Will Hunting (1997)\", and \"Blade Runner (1982)\", which have broad audience appeal.\n",
    "\n",
    "The main benefit of rule-based recommendations is their simplicity and ability to provide well-liked options without the need for personal data. However, the lack of personalization means that all users receive similar recommendations, irrespective of their individual preferences. This makes it less effective for users with specific tastes, limiting engagement potential in the long term.\n",
    "\n",
    "## Content-Based Filtering\n",
    "The Content-Based Filtering approach leverages item features, such as genres, to recommend movies similar to those a user has already rated or interacted with. However, in this study, content-based filtering struggled, producing an average predicted rating of only 0.78. The recommended movies included titles like \"Doom Generation, The (1995)\", \"Ed Wood (1994)\", and \"Welcome to the Dollhouse (1995)\". While these movies may have certain genre similarities, the lack of sufficient user interaction data weakened the relevance of these suggestions.\n",
    "\n",
    "Content-based filtering is generally effective in providing personalized recommendations for users who have established interaction histories. For cold start scenarios, though, it suffers from the absence of sufficient user data, which significantly hampers its ability to generate meaningful recommendations. This leads to inconsistencies and poor recommendation quality when dealing with new users who lack substantial rating history.\n",
    "\n",
    "## Hybrid Model\n",
    "The Hybrid Model strategy aims to combine the strengths of both rule-based and content-based filtering approaches. It balances the general popularity of items with personalization features to improve recommendation quality. In this study, the hybrid approach produced an average predicted rating of 2.53, which is better than content-based filtering alone, but still falls behind rule-based recommendations. The movies recommended by the hybrid model included a mix of popular titles like \"Star Wars (1977)\", \"Eat Drink Man Woman (1994)\", and \"Lawrence of Arabia (1962)\", attempting to bridge the gap between general popularity and personalized preferences.\n",
    "\n",
    "The hybrid strategy attempts to achieve a balance between popularity and personalization, allowing for a broader appeal. However, the balance between these two sources of information is crucial, and in this case, the hybrid model did not outperform the rule-based strategy. It indicates that while combining strategies can help, the weighting of each method must be carefully tuned to yield optimal results.\n",
    "\n",
    "## Demographic-Based Recommendations\n",
    "The Demographic-Based Recommendations strategy uses user demographic information, such as age and occupation, to suggest items that are popular within specific user segments. For example, a simulated user aged 25 received recommendations based on other users in a similar age group and occupation (\"student\"). The top movies recommended included \"Star Wars (1977)\", \"Return of the Jedi (1983)\", \"Contact (1997)\", and \"Liar Liar (1997)\". The average predicted rating for these demographic-based recommendations was 3.78.\n",
    "\n",
    "This approach provides a modest level of personalization beyond rule-based strategies by grouping users based on shared characteristics. It performed better than content-based filtering in cold start situations, indicating that demographic information can be highly valuable for recommending relevant content. However, like rule-based recommendations, demographic-based methods lack individual-level personalization and are less likely to cater to unique user tastes.\n",
    "\n",
    "## Performance Summary\n",
    "The chart comparing these four strategies shows that Rule-Based Recommendations outperform other strategies in terms of average predicted ratings, with an average score of 4.28. It provides a reliable starting point for new users when no interaction data is available. Demographic-Based Recommendations come next, with an average rating of 3.78, offering a moderate level of personalization that is useful in the absence of explicit user preferences.\n",
    "\n",
    "The Hybrid Model showed only moderate improvement over content-based filtering alone, achieving an average predicted rating of 2.53. This result highlights the challenges of optimizing the balance between popularity and personalization. It indicates that while the hybrid approach has potential, careful tuning is needed to maximize the value of combining multiple recommendation sources.\n",
    "\n",
    "Content-Based Filtering performed the weakest, with an average predicted rating of 0.78. This result underscores its limitations in cold start situations, particularly when there is little to no user interaction history to leverage for personalization.\n",
    "\n",
    "The Rule-Based Strategy, with its simplicity and effectiveness, remains an ideal starting point for new users. Demographic-Based Recommendations add another layer of personalization based on user characteristics, while the Hybrid Model, with further optimization, has the potential to offer a superior, personalized recommendation experience by leveraging multiple data sources to overcome the cold start problem effectively.\n",
    "\n",
    "Overall, the findings suggest that a combination of Rule-Based and Demographic-Based methods can serve as strong initial strategies to handle cold start issues. These approaches are simple yet effective in providing a satisfactory user experience for new users. To enhance the system further, Hybrid Models that incorporate content-based elements may be explored to create more tailored recommendations, especially as more user-specific data becomes available over time."
   ]
  },
  {
   "cell_type": "markdown",
   "id": "1f82dd5d",
   "metadata": {},
   "source": []
  }
 ],
 "metadata": {
  "kernelspec": {
   "display_name": "Python 3 (ipykernel)",
   "language": "python",
   "name": "python3"
  },
  "language_info": {
   "codemirror_mode": {
    "name": "ipython",
    "version": 3
   },
   "file_extension": ".py",
   "mimetype": "text/x-python",
   "name": "python",
   "nbconvert_exporter": "python",
   "pygments_lexer": "ipython3",
   "version": "3.12.3"
  }
 },
 "nbformat": 4,
 "nbformat_minor": 5
}
