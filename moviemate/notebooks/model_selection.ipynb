{
 "cells": [
  {
   "cell_type": "code",
   "execution_count": null,
   "id": "c3f97bfa-84b6-4f8d-85c2-c2fb84a5fd5d",
   "metadata": {},
   "outputs": [],
   "source": [
    "import pandas as pd\n",
    "import matplotlib.pyplot as plt\n",
    "from moviemate.rule_based import RuleBasedRecommendation\n",
    "from moviemate.collaborative import CollaborativeFiltering\n",
    "from moviemate.content_based import ContentBasedFiltering\n",
    "from surprise import SVD, KNNBasic\n",
    "\n",
    "# Load Dataset Paths\n",
    "ratings_file = 'systems/moviemate/u.data'\n",
    "metadata_file = 'systems/moviemate/u.item'\n",
    "\n",
    "# Initialize Models\n",
    "rule_based = RuleBasedRecommendation(ratings_file, metadata_file)\n",
    "collaborative_svd = CollaborativeFiltering(ratings_file, metadata_file, algorithm='svd')\n",
    "collaborative_user_user = CollaborativeFiltering(ratings_file, metadata_file, algorithm='user-user')\n",
    "collaborative_item_item = CollaborativeFiltering(ratings_file, metadata_file, algorithm='item-item')\n",
    "content_based = ContentBasedFiltering(ratings_file, metadata_file)"
   ]
  },
  {
   "cell_type": "code",
   "execution_count": null,
   "id": "5953dd25-07b0-4268-af7f-f728308fada5",
   "metadata": {},
   "outputs": [],
   "source": [
    "# Fit Models\n",
    "print(\"Fitting Collaborative Filtering (SVD)...\")\n",
    "collaborative_svd.fit()\n",
    "\n",
    "print(\"Fitting Collaborative Filtering (User-User)...\")\n",
    "collaborative_user_user.fit()\n",
    "\n",
    "print(\"Fitting Collaborative Filtering (Item-Item)...\")\n",
    "collaborative_item_item.fit()"
   ]
  },
  {
   "cell_type": "code",
   "execution_count": null,
   "id": "21b76969-de6a-43bb-bc13-31ddc8642a6c",
   "metadata": {},
   "outputs": [],
   "source": [
    "# Evaluate Models\n",
    "print(\"Evaluating Rule-Based Recommendation (Top Overall)...\")\n",
    "top_overall = rule_based.top_overall()\n",
    "print(top_overall)\n",
    "\n",
    "print(\"\\nEvaluating Collaborative Filtering (SVD)...\")\n",
    "rmse_svd = collaborative_svd.evaluate()\n",
    "print(f\"RMSE (SVD): {rmse_svd}\")\n",
    "\n",
    "print(\"\\nEvaluating Collaborative Filtering (User-User)...\")\n",
    "rmse_user_user = collaborative_user_user.evaluate()\n",
    "print(f\"RMSE (User-User): {rmse_user_user}\")\n",
    "\n",
    "print(\"\\nEvaluating Collaborative Filtering (Item-Item)...\")\n",
    "rmse_item_item = collaborative_item_item.evaluate()\n",
    "print(f\"RMSE (Item-Item): {rmse_item_item}\")\n",
    "\n",
    "print(\"\\nEvaluating Content-Based Filtering...\")\n",
    "rmse_content_based = content_based.evaluate(sample_size=1000)\n",
    "print(f\"RMSE (Content-Based): {rmse_content_based}\")"
   ]
  },
  {
   "cell_type": "code",
   "execution_count": null,
   "id": "cc86371b-a724-4dd6-b028-38383f3f3545",
   "metadata": {},
   "outputs": [],
   "source": [
    "# Visualize Performance Comparison\n",
    "model_names = ['Collaborative SVD', 'User-User CF', 'Item-Item CF', 'Content-Based']\n",
    "rmse_values = [rmse_svd, rmse_user_user, rmse_item_item, rmse_content_based]\n",
    "\n",
    "plt.figure(figsize=(10, 5))\n",
    "plt.bar(model_names, rmse_values, color=['skyblue', 'lightgreen', 'salmon', 'violet'])\n",
    "plt.title('Model Comparison - RMSE')\n",
    "plt.xlabel('Model')\n",
    "plt.ylabel('RMSE')\n",
    "plt.grid(axis='y')\n",
    "plt.show()"
   ]
  }
 ],
 "metadata": {
  "kernelspec": {
   "display_name": "Python 3 (ipykernel)",
   "language": "python",
   "name": "python3"
  },
  "language_info": {
   "codemirror_mode": {
    "name": "ipython",
    "version": 3
   },
   "file_extension": ".py",
   "mimetype": "text/x-python",
   "name": "python",
   "nbconvert_exporter": "python",
   "pygments_lexer": "ipython3",
   "version": "3.12.3"
  }
 },
 "nbformat": 4,
 "nbformat_minor": 5
}
